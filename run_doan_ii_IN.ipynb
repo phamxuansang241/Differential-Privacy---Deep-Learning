{
  "cells": [
    {
      "cell_type": "markdown",
      "metadata": {
        "colab_type": "text",
        "id": "view-in-github"
      },
      "source": [
        "<a href=\"https://colab.research.google.com/github/phamxuansang241/Differential-Privacy-Deep-Learning/blob/main/run_doan_ii_IN.ipynb\" target=\"_parent\"><img src=\"https://colab.research.google.com/assets/colab-badge.svg\" alt=\"Open In Colab\"/></a>"
      ]
    },
    {
      "cell_type": "code",
      "execution_count": null,
      "metadata": {
        "colab": {
          "base_uri": "https://localhost:8080/"
        },
        "id": "bhlMn9adRTXL",
        "outputId": "2cd99d57-6e06-4b56-98e0-e5456406e10f"
      },
      "outputs": [
        {
          "name": "stdout",
          "output_type": "stream",
          "text": [
            "Drive already mounted at /content/drive; to attempt to forcibly remount, call drive.mount(\"/content/drive\", force_remount=True).\n",
            "/content/drive/My Drive/BrontoByte\n",
            "/content/drive/MyDrive/BrontoByte/Differential-Privacy\n",
            "/content/drive/MyDrive/BrontoByte/Differential-Privacy/Differential-Privacy---Deep-Learning\n"
          ]
        }
      ],
      "source": [
        "from google.colab import drive\n",
        "drive.mount('/content/drive')\n",
        "%cd ..\n",
        "%cd /content/drive/MyDrive/BrontoByte/Differential-Privacy/\n",
        "%cd Differential-Privacy---Deep-Learning"
      ]
    },
    {
      "cell_type": "code",
      "execution_count": null,
      "metadata": {
        "id": "7Tmq-6m5RlLi"
      },
      "outputs": [],
      "source": [
        "!git clone https://github.com/phamxuansang241/Differential-Privacy---Deep-Learning.git"
      ]
    },
    {
      "cell_type": "code",
      "execution_count": null,
      "metadata": {
        "colab": {
          "base_uri": "https://localhost:8080/"
        },
        "id": "ZE1MTZoeTXsc",
        "outputId": "6170decb-0a20-401f-cda1-05efd1a9cdad"
      },
      "outputs": [
        {
          "name": "stdout",
          "output_type": "stream",
          "text": [
            "Looking in indexes: https://pypi.org/simple, https://us-python.pkg.dev/colab-wheels/public/simple/\n",
            "Collecting opacus\n",
            "  Downloading opacus-1.3.0-py3-none-any.whl (216 kB)\n",
            "\u001b[2K     \u001b[90m━━━━━━━━━━━━━━━━━━━━━━━━━━━━━━━━━━━━━━━\u001b[0m \u001b[32m216.9/216.9 KB\u001b[0m \u001b[31m6.7 MB/s\u001b[0m eta \u001b[36m0:00:00\u001b[0m\n",
            "\u001b[?25hRequirement already satisfied: scipy>=1.2 in /usr/local/lib/python3.8/dist-packages (from opacus) (1.7.3)\n",
            "Collecting functorch\n",
            "  Downloading functorch-1.13.1-py2.py3-none-any.whl (2.1 kB)\n",
            "Requirement already satisfied: torch>=1.8 in /usr/local/lib/python3.8/dist-packages (from opacus) (1.13.1+cu116)\n",
            "Requirement already satisfied: opt-einsum>=3.3.0 in /usr/local/lib/python3.8/dist-packages (from opacus) (3.3.0)\n",
            "Requirement already satisfied: numpy>=1.15 in /usr/local/lib/python3.8/dist-packages (from opacus) (1.21.6)\n",
            "Requirement already satisfied: typing-extensions in /usr/local/lib/python3.8/dist-packages (from torch>=1.8->opacus) (4.4.0)\n",
            "Installing collected packages: functorch, opacus\n",
            "Successfully installed functorch-1.13.1 opacus-1.3.0\n",
            "Looking in indexes: https://pypi.org/simple, https://us-python.pkg.dev/colab-wheels/public/simple/\n",
            "Requirement already satisfied: functorch in /usr/local/lib/python3.8/dist-packages (1.13.1)\n",
            "Requirement already satisfied: torch<1.13.2,>=1.13.1 in /usr/local/lib/python3.8/dist-packages (from functorch) (1.13.1+cu116)\n",
            "Requirement already satisfied: typing-extensions in /usr/local/lib/python3.8/dist-packages (from torch<1.13.2,>=1.13.1->functorch) (4.4.0)\n"
          ]
        }
      ],
      "source": [
        "!pip install opacus\n",
        "!pip install functorch"
      ]
    },
    {
      "cell_type": "markdown",
      "metadata": {
        "id": "ZlXm3m0Hv9AZ"
      },
      "source": [
        "## RUN MODEL"
      ]
    },
    {
      "cell_type": "code",
      "execution_count": 2,
      "metadata": {},
      "outputs": [],
      "source": [
        "import json\n",
        "\n",
        "config = {\n",
        "    \"data_name\": \"mnist\",\n",
        "    \"epochs\": 100,\n",
        "    \"batch_size\": 128, \n",
        "    \"lr\": 0.001, \n",
        "    \"epsilon\": 6, \n",
        "    \"delta\": 1e-05,\n",
        "    \"clipping_norm\": 4.0, \n",
        "    \"q\": 0.1\n",
        "}\n",
        "\n",
        "config_json_object = json.dumps(config, indent=4)\n",
        "\n",
        "with open(\"dp_sgd_config.json\", \"w\") as outfile:\n",
        "    outfile.write(config_json_object)"
      ]
    },
    {
      "cell_type": "code",
      "execution_count": 3,
      "metadata": {
        "colab": {
          "background_save": true
        },
        "id": "S3yjMaSlSz0h"
      },
      "outputs": [
        {
          "name": "stdout",
          "output_type": "stream",
          "text": [
            "^C\n"
          ]
        }
      ],
      "source": [
        "!python run_model.py -cf dp_sgd_config.json"
      ]
    }
  ],
  "metadata": {
    "accelerator": "GPU",
    "colab": {
      "authorship_tag": "ABX9TyNKt3qEu/DHKdcDn+5mtWQT",
      "include_colab_link": true,
      "provenance": []
    },
    "gpuClass": "standard",
    "kernelspec": {
      "display_name": "Python 3",
      "language": "python",
      "name": "python3"
    },
    "language_info": {
      "codemirror_mode": {
        "name": "ipython",
        "version": 3
      },
      "file_extension": ".py",
      "mimetype": "text/x-python",
      "name": "python",
      "nbconvert_exporter": "python",
      "pygments_lexer": "ipython3",
      "version": "3.10.4"
    },
    "vscode": {
      "interpreter": {
        "hash": "31671a60cee805c34c73116577b485118ff3a75c458d3004d49632c19702ac60"
      }
    }
  },
  "nbformat": 4,
  "nbformat_minor": 0
}
