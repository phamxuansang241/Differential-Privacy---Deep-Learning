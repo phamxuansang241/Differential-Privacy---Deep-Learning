{
  "cells": [
    {
      "cell_type": "markdown",
      "metadata": {
        "id": "view-in-github",
        "colab_type": "text"
      },
      "source": [
        "<a href=\"https://colab.research.google.com/github/phamxuansang241/Differential-Privacy-Deep-Learning/blob/main/run_doan_ii_IN.ipynb\" target=\"_parent\"><img src=\"https://colab.research.google.com/assets/colab-badge.svg\" alt=\"Open In Colab\"/></a>"
      ]
    },
    {
      "cell_type": "code",
      "execution_count": null,
      "metadata": {
        "colab": {
          "base_uri": "https://localhost:8080/"
        },
        "id": "bhlMn9adRTXL",
        "outputId": "2cd99d57-6e06-4b56-98e0-e5456406e10f"
      },
      "outputs": [
        {
          "output_type": "stream",
          "name": "stdout",
          "text": [
            "Drive already mounted at /content/drive; to attempt to forcibly remount, call drive.mount(\"/content/drive\", force_remount=True).\n",
            "/content/drive/My Drive/BrontoByte\n",
            "/content/drive/MyDrive/BrontoByte/Differential-Privacy\n",
            "/content/drive/MyDrive/BrontoByte/Differential-Privacy/Differential-Privacy---Deep-Learning\n"
          ]
        }
      ],
      "source": [
        "from google.colab import drive\n",
        "drive.mount('/content/drive')\n",
        "%cd ..\n",
        "%cd /content/drive/MyDrive/BrontoByte/Differential-Privacy/\n",
        "%cd Differential-Privacy---Deep-Learning"
      ]
    },
    {
      "cell_type": "code",
      "execution_count": null,
      "metadata": {
        "id": "7Tmq-6m5RlLi"
      },
      "outputs": [],
      "source": [
        "!git clone https://github.com/phamxuansang241/Differential-Privacy---Deep-Learning.git"
      ]
    },
    {
      "cell_type": "code",
      "execution_count": null,
      "metadata": {
        "colab": {
          "base_uri": "https://localhost:8080/"
        },
        "id": "ZE1MTZoeTXsc",
        "outputId": "6170decb-0a20-401f-cda1-05efd1a9cdad"
      },
      "outputs": [
        {
          "name": "stdout",
          "output_type": "stream",
          "text": [
            "Looking in indexes: https://pypi.org/simple, https://us-python.pkg.dev/colab-wheels/public/simple/\n",
            "Collecting opacus\n",
            "  Downloading opacus-1.3.0-py3-none-any.whl (216 kB)\n",
            "\u001b[2K     \u001b[90m━━━━━━━━━━━━━━━━━━━━━━━━━━━━━━━━━━━━━━━\u001b[0m \u001b[32m216.9/216.9 KB\u001b[0m \u001b[31m6.7 MB/s\u001b[0m eta \u001b[36m0:00:00\u001b[0m\n",
            "\u001b[?25hRequirement already satisfied: scipy>=1.2 in /usr/local/lib/python3.8/dist-packages (from opacus) (1.7.3)\n",
            "Collecting functorch\n",
            "  Downloading functorch-1.13.1-py2.py3-none-any.whl (2.1 kB)\n",
            "Requirement already satisfied: torch>=1.8 in /usr/local/lib/python3.8/dist-packages (from opacus) (1.13.1+cu116)\n",
            "Requirement already satisfied: opt-einsum>=3.3.0 in /usr/local/lib/python3.8/dist-packages (from opacus) (3.3.0)\n",
            "Requirement already satisfied: numpy>=1.15 in /usr/local/lib/python3.8/dist-packages (from opacus) (1.21.6)\n",
            "Requirement already satisfied: typing-extensions in /usr/local/lib/python3.8/dist-packages (from torch>=1.8->opacus) (4.4.0)\n",
            "Installing collected packages: functorch, opacus\n",
            "Successfully installed functorch-1.13.1 opacus-1.3.0\n",
            "Looking in indexes: https://pypi.org/simple, https://us-python.pkg.dev/colab-wheels/public/simple/\n",
            "Requirement already satisfied: functorch in /usr/local/lib/python3.8/dist-packages (1.13.1)\n",
            "Requirement already satisfied: torch<1.13.2,>=1.13.1 in /usr/local/lib/python3.8/dist-packages (from functorch) (1.13.1+cu116)\n",
            "Requirement already satisfied: typing-extensions in /usr/local/lib/python3.8/dist-packages (from torch<1.13.2,>=1.13.1->functorch) (4.4.0)\n"
          ]
        }
      ],
      "source": [
        "!pip install opacus\n",
        "!pip install functorch"
      ]
    },
    {
      "cell_type": "markdown",
      "source": [
        "## RUN MODEL"
      ],
      "metadata": {
        "id": "ZlXm3m0Hv9AZ"
      }
    },
    {
      "cell_type": "code",
      "execution_count": null,
      "metadata": {
        "colab": {
          "background_save": true
        },
        "id": "S3yjMaSlSz0h"
      },
      "outputs": [],
      "source": [
        "!python run_model.py -cf dp_sgd_config.json"
      ]
    }
  ],
  "metadata": {
    "accelerator": "GPU",
    "colab": {
      "provenance": [],
      "authorship_tag": "ABX9TyNKt3qEu/DHKdcDn+5mtWQT",
      "include_colab_link": true
    },
    "gpuClass": "standard",
    "kernelspec": {
      "display_name": "Python 3",
      "name": "python3"
    },
    "language_info": {
      "name": "python"
    }
  },
  "nbformat": 4,
  "nbformat_minor": 0
}